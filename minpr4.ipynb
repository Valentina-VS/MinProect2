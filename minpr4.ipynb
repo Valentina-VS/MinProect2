{
 "cells": [
  {
   "cell_type": "code",
   "execution_count": 27,
   "id": "bfda76ef-5187-43b3-9dad-f8c7468f3c3a",
   "metadata": {},
   "outputs": [
    {
     "name": "stdout",
     "output_type": "stream",
     "text": [
      "Collecting os-sys\n",
      "  Using cached os_sys-2.1.4-py3-none-any.whl.metadata (9.9 kB)\n",
      "Collecting pygubu (from os-sys)\n",
      "  Using cached pygubu-0.35.6-py3-none-any.whl.metadata (7.3 kB)\n",
      "Requirement already satisfied: pytz in /opt/conda/lib/python3.11/site-packages (from os-sys) (2023.3.post1)\n",
      "Collecting sqlparse (from os-sys)\n",
      "  Using cached sqlparse-0.5.3-py3-none-any.whl.metadata (3.9 kB)\n",
      "Collecting progress (from os-sys)\n",
      "  Using cached progress-1.6.tar.gz (7.8 kB)\n",
      "  Preparing metadata (setup.py) ... \u001b[?25ldone\n",
      "\u001b[?25hRequirement already satisfied: tqdm in /opt/conda/lib/python3.11/site-packages (from os-sys) (4.66.1)\n",
      "Collecting progressbar (from os-sys)\n",
      "  Using cached progressbar-2.5.tar.gz (10 kB)\n",
      "  Preparing metadata (setup.py) ... \u001b[?25ldone\n",
      "\u001b[?25hRequirement already satisfied: matplotlib in /opt/conda/lib/python3.11/site-packages (from os-sys) (3.9.2)\n",
      "Requirement already satisfied: numpy in /opt/conda/lib/python3.11/site-packages (from os-sys) (2.1.2)\n",
      "Requirement already satisfied: six in /opt/conda/lib/python3.11/site-packages (from os-sys) (1.16.0)\n",
      "Collecting jupyter (from os-sys)\n",
      "  Using cached jupyter-1.1.1-py2.py3-none-any.whl.metadata (2.0 kB)\n",
      "Requirement already satisfied: pandas in /opt/conda/lib/python3.11/site-packages (from os-sys) (2.2.3)\n",
      "Requirement already satisfied: beautifulsoup4 in /opt/conda/lib/python3.11/site-packages (from os-sys) (4.12.2)\n",
      "Collecting Eel (from os-sys)\n",
      "  Using cached eel-0.18.1.tar.gz (26 kB)\n",
      "  Preparing metadata (setup.py) ... \u001b[?25ldone\n",
      "\u001b[?25hCollecting extract-zip (from os-sys)\n",
      "  Using cached extract_zip-1.0.0-py3-none-any.whl.metadata (403 bytes)\n",
      "INFO: pip is looking at multiple versions of os-sys to determine which version is compatible with other requirements. This could take a while.\n",
      "Collecting os-sys\n",
      "  Using cached os_sys-2.1.3-py3-none-any.whl.metadata (9.9 kB)\n",
      "  Using cached os_sys-2.1.2-py3-none-any.whl.metadata (9.9 kB)\n",
      "  Using cached os_sys-2.1.1-py3-none-any.whl.metadata (9.9 kB)\n",
      "  Using cached os_sys-2.1.0-py3-none-any.whl.metadata (9.9 kB)\n",
      "  Using cached os_sys-2.0.9-py3-none-any.whl.metadata (9.9 kB)\n",
      "  Using cached os_sys-2.0.8-py3-none-any.whl.metadata (9.9 kB)\n",
      "  Using cached os_sys-2.0.7-py3-none-any.whl.metadata (9.9 kB)\n",
      "INFO: pip is still looking at multiple versions of os-sys to determine which version is compatible with other requirements. This could take a while.\n",
      "  Using cached os_sys-2.0.6-py3-none-any.whl.metadata (9.5 kB)\n",
      "  Using cached os_sys-2.0.5-py3-none-any.whl.metadata (9.5 kB)\n",
      "  Using cached os_sys-2.0.4-py3-none-any.whl.metadata (9.5 kB)\n",
      "Collecting webview (from os-sys)\n",
      "  Using cached webview-0.1.5.tar.gz (18 kB)\n",
      "  Preparing metadata (setup.py) ... \u001b[?25lerror\n",
      "  \u001b[1;31merror\u001b[0m: \u001b[1msubprocess-exited-with-error\u001b[0m\n",
      "  \n",
      "  \u001b[31m×\u001b[0m \u001b[32mpython setup.py egg_info\u001b[0m did not run successfully.\n",
      "  \u001b[31m│\u001b[0m exit code: \u001b[1;36m1\u001b[0m\n",
      "  \u001b[31m╰─>\u001b[0m \u001b[31m[15 lines of output]\u001b[0m\n",
      "  \u001b[31m   \u001b[0m Traceback (most recent call last):\n",
      "  \u001b[31m   \u001b[0m   File \"<string>\", line 2, in <module>\n",
      "  \u001b[31m   \u001b[0m   File \"<pip-setuptools-caller>\", line 34, in <module>\n",
      "  \u001b[31m   \u001b[0m   File \"/tmp/pip-install-k1jvab3i/webview_7258efb223644e52998d8457ff4be229/setup.py\", line 43, in <module>\n",
      "  \u001b[31m   \u001b[0m     extra_cflags = pkgconfig(\"--cflags\").split()\n",
      "  \u001b[31m   \u001b[0m                    ^^^^^^^^^^^^^^^^^^^^^\n",
      "  \u001b[31m   \u001b[0m   File \"/tmp/pip-install-k1jvab3i/webview_7258efb223644e52998d8457ff4be229/setup.py\", line 37, in pkgconfig\n",
      "  \u001b[31m   \u001b[0m     return subprocess.check_output(\n",
      "  \u001b[31m   \u001b[0m            ^^^^^^^^^^^^^^^^^^^^^^^^\n",
      "  \u001b[31m   \u001b[0m   File \"/opt/conda/lib/python3.11/subprocess.py\", line 466, in check_output\n",
      "  \u001b[31m   \u001b[0m     return run(*popenargs, stdout=PIPE, timeout=timeout, check=True,\n",
      "  \u001b[31m   \u001b[0m            ^^^^^^^^^^^^^^^^^^^^^^^^^^^^^^^^^^^^^^^^^^^^^^^^^^^^^^^^^\n",
      "  \u001b[31m   \u001b[0m   File \"/opt/conda/lib/python3.11/subprocess.py\", line 571, in run\n",
      "  \u001b[31m   \u001b[0m     raise CalledProcessError(retcode, process.args,\n",
      "  \u001b[31m   \u001b[0m subprocess.CalledProcessError: Command 'pkg-config --cflags gtk+-3.0 webkit2gtk-4.0' returned non-zero exit status 127.\n",
      "  \u001b[31m   \u001b[0m \u001b[31m[end of output]\u001b[0m\n",
      "  \n",
      "  \u001b[1;35mnote\u001b[0m: This error originates from a subprocess, and is likely not a problem with pip.\n",
      "\u001b[1;31merror\u001b[0m: \u001b[1mmetadata-generation-failed\u001b[0m\n",
      "\n",
      "\u001b[31m×\u001b[0m Encountered error while generating package metadata.\n",
      "\u001b[31m╰─>\u001b[0m See above for output.\n",
      "\n",
      "\u001b[1;35mnote\u001b[0m: This is an issue with the package mentioned above, not pip.\n",
      "\u001b[1;36mhint\u001b[0m: See above for details.\n",
      "\u001b[?25hNote: you may need to restart the kernel to use updated packages.\n"
     ]
    }
   ],
   "source": [
    "pip install os-sys"
   ]
  },
  {
   "cell_type": "code",
   "execution_count": 230,
   "id": "47d7e4f1-6fe0-4619-a621-0c19902f829a",
   "metadata": {},
   "outputs": [],
   "source": [
    "import pandas as pd\n",
    "import numpy as np\n",
    "import matplotlib.pyplot as plt\n",
    "%matplotlib inline\n",
    "import seaborn as sns\n",
    "import os"
   ]
  },
  {
   "cell_type": "code",
   "execution_count": 19,
   "id": "1f27c8fa-e186-4acf-ae18-fab244672e50",
   "metadata": {},
   "outputs": [
    {
     "data": {
      "text/plain": [
       "'/home/jovyan/data'"
      ]
     },
     "execution_count": 19,
     "metadata": {},
     "output_type": "execute_result"
    }
   ],
   "source": [
    "os.getcwd()"
   ]
  },
  {
   "cell_type": "code",
   "execution_count": 137,
   "id": "8a6b11bc-2dd5-4119-b0bf-189d38b8fdc0",
   "metadata": {},
   "outputs": [
    {
     "data": {
      "text/html": [
       "<div>\n",
       "<style scoped>\n",
       "    .dataframe tbody tr th:only-of-type {\n",
       "        vertical-align: middle;\n",
       "    }\n",
       "\n",
       "    .dataframe tbody tr th {\n",
       "        vertical-align: top;\n",
       "    }\n",
       "\n",
       "    .dataframe thead th {\n",
       "        text-align: right;\n",
       "    }\n",
       "</style>\n",
       "<table border=\"1\" class=\"dataframe\">\n",
       "  <thead>\n",
       "    <tr style=\"text-align: right;\">\n",
       "      <th></th>\n",
       "      <th>Unnamed: 0</th>\n",
       "      <th>product_id</th>\n",
       "      <th>quantity</th>\n",
       "    </tr>\n",
       "  </thead>\n",
       "  <tbody>\n",
       "    <tr>\n",
       "      <th>0</th>\n",
       "      <td>0</td>\n",
       "      <td>47</td>\n",
       "      <td>1</td>\n",
       "    </tr>\n",
       "    <tr>\n",
       "      <th>1</th>\n",
       "      <td>1</td>\n",
       "      <td>57</td>\n",
       "      <td>1</td>\n",
       "    </tr>\n",
       "    <tr>\n",
       "      <th>2</th>\n",
       "      <td>2</td>\n",
       "      <td>14</td>\n",
       "      <td>2</td>\n",
       "    </tr>\n",
       "    <tr>\n",
       "      <th>3</th>\n",
       "      <td>3</td>\n",
       "      <td>52</td>\n",
       "      <td>1</td>\n",
       "    </tr>\n",
       "    <tr>\n",
       "      <th>4</th>\n",
       "      <td>4</td>\n",
       "      <td>1</td>\n",
       "      <td>4</td>\n",
       "    </tr>\n",
       "    <tr>\n",
       "      <th>5</th>\n",
       "      <td>5</td>\n",
       "      <td>94</td>\n",
       "      <td>4</td>\n",
       "    </tr>\n",
       "  </tbody>\n",
       "</table>\n",
       "</div>"
      ],
      "text/plain": [
       "   Unnamed: 0  product_id  quantity\n",
       "0           0          47         1\n",
       "1           1          57         1\n",
       "2           2          14         2\n",
       "3           3          52         1\n",
       "4           4           1         4\n",
       "5           5          94         4"
      ]
     },
     "execution_count": 137,
     "metadata": {},
     "output_type": "execute_result"
    }
   ],
   "source": [
    "pd.read_csv('../data/2020-12-03/Alexey_Smirnov/data.csv') "
   ]
  },
  {
   "cell_type": "code",
   "execution_count": 138,
   "id": "a4870b6f-d558-4ac5-a448-a2dc35b3fd46",
   "metadata": {},
   "outputs": [],
   "source": [
    "df=pd.DataFrame(columns=['product_id','quantity','name','date'])"
   ]
  },
  {
   "cell_type": "code",
   "execution_count": 139,
   "id": "6dce5979-d562-408f-9e70-b97590a24cae",
   "metadata": {},
   "outputs": [
    {
     "data": {
      "text/html": [
       "<div>\n",
       "<style scoped>\n",
       "    .dataframe tbody tr th:only-of-type {\n",
       "        vertical-align: middle;\n",
       "    }\n",
       "\n",
       "    .dataframe tbody tr th {\n",
       "        vertical-align: top;\n",
       "    }\n",
       "\n",
       "    .dataframe thead th {\n",
       "        text-align: right;\n",
       "    }\n",
       "</style>\n",
       "<table border=\"1\" class=\"dataframe\">\n",
       "  <thead>\n",
       "    <tr style=\"text-align: right;\">\n",
       "      <th></th>\n",
       "      <th>product_id</th>\n",
       "      <th>quantity</th>\n",
       "      <th>name</th>\n",
       "      <th>date</th>\n",
       "    </tr>\n",
       "  </thead>\n",
       "  <tbody>\n",
       "  </tbody>\n",
       "</table>\n",
       "</div>"
      ],
      "text/plain": [
       "Empty DataFrame\n",
       "Columns: [product_id, quantity, name, date]\n",
       "Index: []"
      ]
     },
     "execution_count": 139,
     "metadata": {},
     "output_type": "execute_result"
    }
   ],
   "source": [
    "df"
   ]
  },
  {
   "cell_type": "code",
   "execution_count": 146,
   "id": "1294ffaa-8144-4381-b3c9-23e7da9a7dc3",
   "metadata": {},
   "outputs": [
    {
     "name": "stdout",
     "output_type": "stream",
     "text": [
      "('../data', ['2020-12-05', '.ipynb_checkpoints', '2020-12-09', '2020-12-07', '2020-12-04', '2020-12-03', '2020-12-06', '2020-12-08'], ['minpr4.ipynb'])\n",
      "('../data/2020-12-05', ['.ipynb_checkpoints', 'Alexey_Fedorov', 'Petr_Smirnov', 'Rostislav_Smirnov', 'Alexey_Petrov', 'Kirill_Smirnov', 'Petr_Ivanov'], [])\n",
      "('../data/2020-12-05/.ipynb_checkpoints', [], [])\n",
      "('../data/2020-12-05/Alexey_Fedorov', [], ['data.csv'])\n",
      "('../data/2020-12-05/Petr_Smirnov', [], ['data.csv'])\n",
      "('../data/2020-12-05/Rostislav_Smirnov', [], ['data.csv'])\n",
      "('../data/2020-12-05/Alexey_Petrov', [], ['data.csv'])\n",
      "('../data/2020-12-05/Kirill_Smirnov', [], ['data.csv'])\n",
      "('../data/2020-12-05/Petr_Ivanov', [], ['data.csv'])\n",
      "('../data/.ipynb_checkpoints', [], ['minpr4-checkpoint.ipynb'])\n",
      "('../data/2020-12-09', ['.ipynb_checkpoints', 'Anton_Ivanov', 'Rostislav_Petrov', 'Anton_Petrov', 'Alexey_Smirnov', 'Petr_Fedorov', 'Anton_Smirnov', 'Vasiliy_Ivanov'], [])\n",
      "('../data/2020-12-09/.ipynb_checkpoints', [], [])\n",
      "('../data/2020-12-09/Anton_Ivanov', [], ['data.csv'])\n",
      "('../data/2020-12-09/Rostislav_Petrov', [], ['data.csv'])\n",
      "('../data/2020-12-09/Anton_Petrov', [], ['data.csv'])\n",
      "('../data/2020-12-09/Alexey_Smirnov', [], ['data.csv'])\n",
      "('../data/2020-12-09/Petr_Fedorov', [], ['data.csv'])\n",
      "('../data/2020-12-09/Anton_Smirnov', [], ['data.csv'])\n",
      "('../data/2020-12-09/Vasiliy_Ivanov', [], ['data.csv'])\n",
      "('../data/2020-12-07', ['.ipynb_checkpoints', 'Alexey_Fedorov', 'Anton_Ivanov', 'Petr_Smirnov', 'Alexey_Smirnov', 'Petr_Fedorov', 'Alexey_Ivanov', 'Anton_Smirnov', 'Vasiliy_Ivanov', 'Rostislav_Fedorov', 'Kirill_Fedorov'], [])\n",
      "('../data/2020-12-07/.ipynb_checkpoints', [], [])\n",
      "('../data/2020-12-07/Alexey_Fedorov', [], ['data.csv'])\n",
      "('../data/2020-12-07/Anton_Ivanov', [], ['data.csv'])\n",
      "('../data/2020-12-07/Petr_Smirnov', ['.ipynb_checkpoints'], ['data.csv'])\n",
      "('../data/2020-12-07/Petr_Smirnov/.ipynb_checkpoints', [], [])\n",
      "('../data/2020-12-07/Alexey_Smirnov', [], ['data.csv'])\n",
      "('../data/2020-12-07/Petr_Fedorov', [], ['data.csv'])\n",
      "('../data/2020-12-07/Alexey_Ivanov', [], ['data.csv'])\n",
      "('../data/2020-12-07/Anton_Smirnov', [], ['data.csv'])\n",
      "('../data/2020-12-07/Vasiliy_Ivanov', [], ['data.csv'])\n",
      "('../data/2020-12-07/Rostislav_Fedorov', ['.ipynb_checkpoints'], ['data.csv'])\n",
      "('../data/2020-12-07/Rostislav_Fedorov/.ipynb_checkpoints', [], [])\n",
      "('../data/2020-12-07/Kirill_Fedorov', ['.ipynb_checkpoints'], ['data.csv'])\n",
      "('../data/2020-12-07/Kirill_Fedorov/.ipynb_checkpoints', [], [])\n",
      "('../data/2020-12-04', ['.ipynb_checkpoints', 'Petr_Smirnov', 'Alexey_Smirnov', 'Rostislav_Ivanov', 'Petr_Fedorov', 'Rostislav_Smirnov', 'Vasiliy_Ivanov', 'Rostislav_Fedorov', 'Kirill_Fedorov', 'Petr_Ivanov'], [])\n",
      "('../data/2020-12-04/.ipynb_checkpoints', [], [])\n",
      "('../data/2020-12-04/Petr_Smirnov', [], ['data.csv'])\n",
      "('../data/2020-12-04/Alexey_Smirnov', [], ['data.csv'])\n",
      "('../data/2020-12-04/Rostislav_Ivanov', [], ['data.csv'])\n",
      "('../data/2020-12-04/Petr_Fedorov', [], ['data.csv'])\n",
      "('../data/2020-12-04/Rostislav_Smirnov', [], ['data.csv'])\n",
      "('../data/2020-12-04/Vasiliy_Ivanov', [], ['data.csv'])\n",
      "('../data/2020-12-04/Rostislav_Fedorov', [], ['data.csv'])\n",
      "('../data/2020-12-04/Kirill_Fedorov', [], ['data.csv'])\n",
      "('../data/2020-12-04/Petr_Ivanov', [], ['data.csv'])\n",
      "('../data/2020-12-03', ['.ipynb_checkpoints', 'Kirill_Petrov', 'Anton_Petrov', 'Alexey_Smirnov', 'Vasiliy_Petrov', 'Petr_Fedorov', 'Vasiliy_Ivanov'], [])\n",
      "('../data/2020-12-03/.ipynb_checkpoints', [], [])\n",
      "('../data/2020-12-03/Kirill_Petrov', [], ['data.csv'])\n",
      "('../data/2020-12-03/Anton_Petrov', [], ['data.csv'])\n",
      "('../data/2020-12-03/Alexey_Smirnov', [], ['data.csv'])\n",
      "('../data/2020-12-03/Vasiliy_Petrov', [], ['data.csv'])\n",
      "('../data/2020-12-03/Petr_Fedorov', [], ['data.csv'])\n",
      "('../data/2020-12-03/Vasiliy_Ivanov', [], ['data.csv'])\n",
      "('../data/2020-12-06', ['.ipynb_checkpoints', 'Vasiliy_Fedorov'], [])\n",
      "('../data/2020-12-06/.ipynb_checkpoints', [], [])\n",
      "('../data/2020-12-06/Vasiliy_Fedorov', [], ['data.csv'])\n",
      "('../data/2020-12-08', ['.ipynb_checkpoints', 'Alexey_Fedorov', 'Rostislav_Petrov', 'Anton_Smirnov', 'Petr_Petrov', 'Kirill_Smirnov'], [])\n",
      "('../data/2020-12-08/.ipynb_checkpoints', [], [])\n",
      "('../data/2020-12-08/Alexey_Fedorov', [], ['data.csv'])\n",
      "('../data/2020-12-08/Rostislav_Petrov', [], ['data.csv'])\n",
      "('../data/2020-12-08/Anton_Smirnov', [], ['data.csv'])\n",
      "('../data/2020-12-08/Petr_Petrov', [], ['data.csv'])\n",
      "('../data/2020-12-08/Kirill_Smirnov', [], ['data.csv'])\n"
     ]
    }
   ],
   "source": [
    "tree=os.walk('../data')\n",
    "for i in tree:\n",
    "    print(i)"
   ]
  },
  {
   "cell_type": "code",
   "execution_count": 150,
   "id": "6ac792f9-ffe4-4c2d-b066-6bd4b6296395",
   "metadata": {},
   "outputs": [],
   "source": [
    "data_file=[]"
   ]
  },
  {
   "cell_type": "code",
   "execution_count": 151,
   "id": "e871ed21-0a6e-4613-9b89-a5f6b73723dc",
   "metadata": {},
   "outputs": [
    {
     "data": {
      "text/plain": [
       "[]"
      ]
     },
     "execution_count": 151,
     "metadata": {},
     "output_type": "execute_result"
    }
   ],
   "source": [
    "data_file"
   ]
  },
  {
   "cell_type": "code",
   "execution_count": 152,
   "id": "e669c3d9-b579-4b82-a6bd-44e263d6735a",
   "metadata": {},
   "outputs": [],
   "source": [
    "\n",
    "tree=os.walk('../data')\n",
    "kl_f='data.csv'\n"
   ]
  },
  {
   "cell_type": "code",
   "execution_count": 153,
   "id": "ac3cd982-824d-49ae-b2fe-e3e88fdaaafb",
   "metadata": {},
   "outputs": [],
   "source": [
    "for item in tree:\n",
    "    file=item[-1]\n",
    "    if len(file)>0 and kl_f in file:\n",
    "        path=os.path.join(item[0],kl_f)\n",
    "        data_file.append(path)\n",
    "        \n",
    "        \n"
   ]
  },
  {
   "cell_type": "code",
   "execution_count": 154,
   "id": "8048429a-42a9-444e-ba8b-829bf39f10f2",
   "metadata": {},
   "outputs": [
    {
     "data": {
      "text/plain": [
       "'../data/2020-12-08/Kirill_Smirnov/data.csv'"
      ]
     },
     "execution_count": 154,
     "metadata": {},
     "output_type": "execute_result"
    }
   ],
   "source": [
    "path\n"
   ]
  },
  {
   "cell_type": "code",
   "execution_count": 155,
   "id": "c9ce8062-f44d-4160-98d2-ce03cffbebf4",
   "metadata": {},
   "outputs": [
    {
     "data": {
      "text/plain": [
       "['../data/2020-12-05/Alexey_Fedorov/data.csv',\n",
       " '../data/2020-12-05/Petr_Smirnov/data.csv',\n",
       " '../data/2020-12-05/Rostislav_Smirnov/data.csv',\n",
       " '../data/2020-12-05/Alexey_Petrov/data.csv',\n",
       " '../data/2020-12-05/Kirill_Smirnov/data.csv',\n",
       " '../data/2020-12-05/Petr_Ivanov/data.csv',\n",
       " '../data/2020-12-09/Anton_Ivanov/data.csv',\n",
       " '../data/2020-12-09/Rostislav_Petrov/data.csv',\n",
       " '../data/2020-12-09/Anton_Petrov/data.csv',\n",
       " '../data/2020-12-09/Alexey_Smirnov/data.csv',\n",
       " '../data/2020-12-09/Petr_Fedorov/data.csv',\n",
       " '../data/2020-12-09/Anton_Smirnov/data.csv',\n",
       " '../data/2020-12-09/Vasiliy_Ivanov/data.csv',\n",
       " '../data/2020-12-07/Alexey_Fedorov/data.csv',\n",
       " '../data/2020-12-07/Anton_Ivanov/data.csv',\n",
       " '../data/2020-12-07/Petr_Smirnov/data.csv',\n",
       " '../data/2020-12-07/Alexey_Smirnov/data.csv',\n",
       " '../data/2020-12-07/Petr_Fedorov/data.csv',\n",
       " '../data/2020-12-07/Alexey_Ivanov/data.csv',\n",
       " '../data/2020-12-07/Anton_Smirnov/data.csv',\n",
       " '../data/2020-12-07/Vasiliy_Ivanov/data.csv',\n",
       " '../data/2020-12-07/Rostislav_Fedorov/data.csv',\n",
       " '../data/2020-12-07/Kirill_Fedorov/data.csv',\n",
       " '../data/2020-12-04/Petr_Smirnov/data.csv',\n",
       " '../data/2020-12-04/Alexey_Smirnov/data.csv',\n",
       " '../data/2020-12-04/Rostislav_Ivanov/data.csv',\n",
       " '../data/2020-12-04/Petr_Fedorov/data.csv',\n",
       " '../data/2020-12-04/Rostislav_Smirnov/data.csv',\n",
       " '../data/2020-12-04/Vasiliy_Ivanov/data.csv',\n",
       " '../data/2020-12-04/Rostislav_Fedorov/data.csv',\n",
       " '../data/2020-12-04/Kirill_Fedorov/data.csv',\n",
       " '../data/2020-12-04/Petr_Ivanov/data.csv',\n",
       " '../data/2020-12-03/Kirill_Petrov/data.csv',\n",
       " '../data/2020-12-03/Anton_Petrov/data.csv',\n",
       " '../data/2020-12-03/Alexey_Smirnov/data.csv',\n",
       " '../data/2020-12-03/Vasiliy_Petrov/data.csv',\n",
       " '../data/2020-12-03/Petr_Fedorov/data.csv',\n",
       " '../data/2020-12-03/Vasiliy_Ivanov/data.csv',\n",
       " '../data/2020-12-06/Vasiliy_Fedorov/data.csv',\n",
       " '../data/2020-12-08/Alexey_Fedorov/data.csv',\n",
       " '../data/2020-12-08/Rostislav_Petrov/data.csv',\n",
       " '../data/2020-12-08/Anton_Smirnov/data.csv',\n",
       " '../data/2020-12-08/Petr_Petrov/data.csv',\n",
       " '../data/2020-12-08/Kirill_Smirnov/data.csv']"
      ]
     },
     "execution_count": 155,
     "metadata": {},
     "output_type": "execute_result"
    }
   ],
   "source": [
    "data_file"
   ]
  },
  {
   "cell_type": "code",
   "execution_count": 185,
   "id": "436b015d-1517-4a43-8ea6-0040fab8b124",
   "metadata": {},
   "outputs": [],
   "source": [
    "file_df=[]"
   ]
  },
  {
   "cell_type": "code",
   "execution_count": 186,
   "id": "2fc1edbf-1d95-41be-b205-a7524cd9c97d",
   "metadata": {},
   "outputs": [
    {
     "data": {
      "text/plain": [
       "[]"
      ]
     },
     "execution_count": 186,
     "metadata": {},
     "output_type": "execute_result"
    }
   ],
   "source": [
    "file_df"
   ]
  },
  {
   "cell_type": "code",
   "execution_count": 187,
   "id": "873931db-36d8-46be-886d-65da3814fe4b",
   "metadata": {},
   "outputs": [],
   "source": [
    "for path in data_file:\n",
    "    df=pd.read_csv(path,index_col=0)\n",
    "    data,name=path.split('/')[2:4]\n",
    "    df['data']=data\n",
    "    df['name']=name\n",
    "    file_df.append(df)"
   ]
  },
  {
   "cell_type": "code",
   "execution_count": 188,
   "id": "0efe52bc-9bdf-4541-aaae-f83f9f2d1d5d",
   "metadata": {},
   "outputs": [
    {
     "data": {
      "text/html": [
       "<div>\n",
       "<style scoped>\n",
       "    .dataframe tbody tr th:only-of-type {\n",
       "        vertical-align: middle;\n",
       "    }\n",
       "\n",
       "    .dataframe tbody tr th {\n",
       "        vertical-align: top;\n",
       "    }\n",
       "\n",
       "    .dataframe thead th {\n",
       "        text-align: right;\n",
       "    }\n",
       "</style>\n",
       "<table border=\"1\" class=\"dataframe\">\n",
       "  <thead>\n",
       "    <tr style=\"text-align: right;\">\n",
       "      <th></th>\n",
       "      <th>product_id</th>\n",
       "      <th>quantity</th>\n",
       "      <th>data</th>\n",
       "      <th>name</th>\n",
       "    </tr>\n",
       "  </thead>\n",
       "  <tbody>\n",
       "    <tr>\n",
       "      <th>0</th>\n",
       "      <td>66</td>\n",
       "      <td>2</td>\n",
       "      <td>2020-12-05</td>\n",
       "      <td>Rostislav_Smirnov</td>\n",
       "    </tr>\n",
       "    <tr>\n",
       "      <th>1</th>\n",
       "      <td>41</td>\n",
       "      <td>5</td>\n",
       "      <td>2020-12-05</td>\n",
       "      <td>Rostislav_Smirnov</td>\n",
       "    </tr>\n",
       "    <tr>\n",
       "      <th>2</th>\n",
       "      <td>56</td>\n",
       "      <td>4</td>\n",
       "      <td>2020-12-05</td>\n",
       "      <td>Rostislav_Smirnov</td>\n",
       "    </tr>\n",
       "  </tbody>\n",
       "</table>\n",
       "</div>"
      ],
      "text/plain": [
       "   product_id  quantity        data               name\n",
       "0          66         2  2020-12-05  Rostislav_Smirnov\n",
       "1          41         5  2020-12-05  Rostislav_Smirnov\n",
       "2          56         4  2020-12-05  Rostislav_Smirnov"
      ]
     },
     "execution_count": 188,
     "metadata": {},
     "output_type": "execute_result"
    }
   ],
   "source": [
    "file_df[2]"
   ]
  },
  {
   "cell_type": "code",
   "execution_count": 190,
   "id": "6a704a99-f40e-4589-baf1-27ce07c1aab4",
   "metadata": {},
   "outputs": [],
   "source": [
    "df=pd.concat(file_df,ignore_index=True)"
   ]
  },
  {
   "cell_type": "code",
   "execution_count": 191,
   "id": "439a3e70-1287-4a66-b552-d2317b4305f0",
   "metadata": {},
   "outputs": [
    {
     "data": {
      "text/html": [
       "<div>\n",
       "<style scoped>\n",
       "    .dataframe tbody tr th:only-of-type {\n",
       "        vertical-align: middle;\n",
       "    }\n",
       "\n",
       "    .dataframe tbody tr th {\n",
       "        vertical-align: top;\n",
       "    }\n",
       "\n",
       "    .dataframe thead th {\n",
       "        text-align: right;\n",
       "    }\n",
       "</style>\n",
       "<table border=\"1\" class=\"dataframe\">\n",
       "  <thead>\n",
       "    <tr style=\"text-align: right;\">\n",
       "      <th></th>\n",
       "      <th>product_id</th>\n",
       "      <th>quantity</th>\n",
       "      <th>data</th>\n",
       "      <th>name</th>\n",
       "    </tr>\n",
       "  </thead>\n",
       "  <tbody>\n",
       "    <tr>\n",
       "      <th>0</th>\n",
       "      <td>13</td>\n",
       "      <td>2</td>\n",
       "      <td>2020-12-05</td>\n",
       "      <td>Alexey_Fedorov</td>\n",
       "    </tr>\n",
       "    <tr>\n",
       "      <th>1</th>\n",
       "      <td>50</td>\n",
       "      <td>2</td>\n",
       "      <td>2020-12-05</td>\n",
       "      <td>Alexey_Fedorov</td>\n",
       "    </tr>\n",
       "    <tr>\n",
       "      <th>2</th>\n",
       "      <td>55</td>\n",
       "      <td>3</td>\n",
       "      <td>2020-12-05</td>\n",
       "      <td>Petr_Smirnov</td>\n",
       "    </tr>\n",
       "    <tr>\n",
       "      <th>3</th>\n",
       "      <td>49</td>\n",
       "      <td>3</td>\n",
       "      <td>2020-12-05</td>\n",
       "      <td>Petr_Smirnov</td>\n",
       "    </tr>\n",
       "    <tr>\n",
       "      <th>4</th>\n",
       "      <td>22</td>\n",
       "      <td>5</td>\n",
       "      <td>2020-12-05</td>\n",
       "      <td>Petr_Smirnov</td>\n",
       "    </tr>\n",
       "    <tr>\n",
       "      <th>5</th>\n",
       "      <td>83</td>\n",
       "      <td>4</td>\n",
       "      <td>2020-12-05</td>\n",
       "      <td>Petr_Smirnov</td>\n",
       "    </tr>\n",
       "    <tr>\n",
       "      <th>6</th>\n",
       "      <td>66</td>\n",
       "      <td>2</td>\n",
       "      <td>2020-12-05</td>\n",
       "      <td>Rostislav_Smirnov</td>\n",
       "    </tr>\n",
       "    <tr>\n",
       "      <th>7</th>\n",
       "      <td>41</td>\n",
       "      <td>5</td>\n",
       "      <td>2020-12-05</td>\n",
       "      <td>Rostislav_Smirnov</td>\n",
       "    </tr>\n",
       "    <tr>\n",
       "      <th>8</th>\n",
       "      <td>56</td>\n",
       "      <td>4</td>\n",
       "      <td>2020-12-05</td>\n",
       "      <td>Rostislav_Smirnov</td>\n",
       "    </tr>\n",
       "    <tr>\n",
       "      <th>9</th>\n",
       "      <td>41</td>\n",
       "      <td>4</td>\n",
       "      <td>2020-12-05</td>\n",
       "      <td>Alexey_Petrov</td>\n",
       "    </tr>\n",
       "  </tbody>\n",
       "</table>\n",
       "</div>"
      ],
      "text/plain": [
       "   product_id  quantity        data               name\n",
       "0          13         2  2020-12-05     Alexey_Fedorov\n",
       "1          50         2  2020-12-05     Alexey_Fedorov\n",
       "2          55         3  2020-12-05       Petr_Smirnov\n",
       "3          49         3  2020-12-05       Petr_Smirnov\n",
       "4          22         5  2020-12-05       Petr_Smirnov\n",
       "5          83         4  2020-12-05       Petr_Smirnov\n",
       "6          66         2  2020-12-05  Rostislav_Smirnov\n",
       "7          41         5  2020-12-05  Rostislav_Smirnov\n",
       "8          56         4  2020-12-05  Rostislav_Smirnov\n",
       "9          41         4  2020-12-05      Alexey_Petrov"
      ]
     },
     "execution_count": 191,
     "metadata": {},
     "output_type": "execute_result"
    }
   ],
   "source": [
    "df.head(10)"
   ]
  },
  {
   "cell_type": "code",
   "execution_count": 325,
   "id": "e57a6153-a469-4840-a17f-982304b0f392",
   "metadata": {},
   "outputs": [],
   "source": [
    " df.data= pd.to_datetime(df.data)"
   ]
  },
  {
   "cell_type": "code",
   "execution_count": 328,
   "id": "26c62b54-62b1-4946-8c5f-66e5aa18e46f",
   "metadata": {},
   "outputs": [
    {
     "data": {
      "text/plain": [
       "product_id             int64\n",
       "quantity               int64\n",
       "data          datetime64[ns]\n",
       "name                  object\n",
       "dtype: object"
      ]
     },
     "execution_count": 328,
     "metadata": {},
     "output_type": "execute_result"
    }
   ],
   "source": [
    "df.dtypes"
   ]
  },
  {
   "cell_type": "code",
   "execution_count": 329,
   "id": "6785821a-cb4d-4f95-aec7-1250594c1ac7",
   "metadata": {},
   "outputs": [],
   "source": [
    "max_bay=df.groupby(by='name')['quantity'].sum().sort_values(ascending=False)"
   ]
  },
  {
   "cell_type": "code",
   "execution_count": 330,
   "id": "63a79094-ef41-4baf-9c30-bf89d839f012",
   "metadata": {},
   "outputs": [],
   "source": [
    "max=max_bay.max()"
   ]
  },
  {
   "cell_type": "code",
   "execution_count": 331,
   "id": "1523de7d-9b7c-4c3f-b1e2-b7a024893b2f",
   "metadata": {},
   "outputs": [
    {
     "data": {
      "text/plain": [
       "np.int64(52)"
      ]
     },
     "execution_count": 331,
     "metadata": {},
     "output_type": "execute_result"
    }
   ],
   "source": [
    "max"
   ]
  },
  {
   "cell_type": "code",
   "execution_count": 332,
   "id": "c995033b-d351-4b7c-a4d7-61bd781dbd56",
   "metadata": {},
   "outputs": [],
   "source": [
    "people=max_bay.loc[max_bay==max].index.sort_values()"
   ]
  },
  {
   "cell_type": "code",
   "execution_count": 333,
   "id": "4a814b64-15dc-4fb2-9972-ba6a933d109d",
   "metadata": {},
   "outputs": [
    {
     "data": {
      "text/plain": [
       "Index(['Alexey_Smirnov', 'Petr_Smirnov'], dtype='object', name='name')"
      ]
     },
     "execution_count": 333,
     "metadata": {},
     "output_type": "execute_result"
    }
   ],
   "source": [
    "people"
   ]
  },
  {
   "cell_type": "code",
   "execution_count": 334,
   "id": "4e7bb67f-0d91-4133-b5c4-fc753b67ee1e",
   "metadata": {},
   "outputs": [],
   "source": [
    "id=df.groupby(by='product_id')['quantity'].sum().sort_values(ascending=False).head(10)"
   ]
  },
  {
   "cell_type": "code",
   "execution_count": 335,
   "id": "51d6b578-c141-46fe-9def-029fa34ac63b",
   "metadata": {},
   "outputs": [
    {
     "data": {
      "text/html": [
       "<div>\n",
       "<style scoped>\n",
       "    .dataframe tbody tr th:only-of-type {\n",
       "        vertical-align: middle;\n",
       "    }\n",
       "\n",
       "    .dataframe tbody tr th {\n",
       "        vertical-align: top;\n",
       "    }\n",
       "\n",
       "    .dataframe thead th {\n",
       "        text-align: right;\n",
       "    }\n",
       "</style>\n",
       "<table border=\"1\" class=\"dataframe\">\n",
       "  <thead>\n",
       "    <tr style=\"text-align: right;\">\n",
       "      <th></th>\n",
       "      <th>product_id</th>\n",
       "      <th>quantity</th>\n",
       "    </tr>\n",
       "  </thead>\n",
       "  <tbody>\n",
       "    <tr>\n",
       "      <th>0</th>\n",
       "      <td>27</td>\n",
       "      <td>20</td>\n",
       "    </tr>\n",
       "    <tr>\n",
       "      <th>1</th>\n",
       "      <td>56</td>\n",
       "      <td>18</td>\n",
       "    </tr>\n",
       "    <tr>\n",
       "      <th>2</th>\n",
       "      <td>74</td>\n",
       "      <td>15</td>\n",
       "    </tr>\n",
       "    <tr>\n",
       "      <th>3</th>\n",
       "      <td>24</td>\n",
       "      <td>15</td>\n",
       "    </tr>\n",
       "    <tr>\n",
       "      <th>4</th>\n",
       "      <td>41</td>\n",
       "      <td>14</td>\n",
       "    </tr>\n",
       "    <tr>\n",
       "      <th>5</th>\n",
       "      <td>66</td>\n",
       "      <td>13</td>\n",
       "    </tr>\n",
       "    <tr>\n",
       "      <th>6</th>\n",
       "      <td>94</td>\n",
       "      <td>13</td>\n",
       "    </tr>\n",
       "    <tr>\n",
       "      <th>7</th>\n",
       "      <td>34</td>\n",
       "      <td>13</td>\n",
       "    </tr>\n",
       "    <tr>\n",
       "      <th>8</th>\n",
       "      <td>50</td>\n",
       "      <td>12</td>\n",
       "    </tr>\n",
       "    <tr>\n",
       "      <th>9</th>\n",
       "      <td>92</td>\n",
       "      <td>12</td>\n",
       "    </tr>\n",
       "  </tbody>\n",
       "</table>\n",
       "</div>"
      ],
      "text/plain": [
       "   product_id  quantity\n",
       "0          27        20\n",
       "1          56        18\n",
       "2          74        15\n",
       "3          24        15\n",
       "4          41        14\n",
       "5          66        13\n",
       "6          94        13\n",
       "7          34        13\n",
       "8          50        12\n",
       "9          92        12"
      ]
     },
     "execution_count": 335,
     "metadata": {},
     "output_type": "execute_result"
    }
   ],
   "source": [
    "id"
   ]
  },
  {
   "cell_type": "code",
   "execution_count": null,
   "id": "e301e9b6-e3f0-459c-9409-002eb091aa1b",
   "metadata": {},
   "outputs": [],
   "source": []
  },
  {
   "cell_type": "code",
   "execution_count": 336,
   "id": "8f1d5100-aa30-4830-bd4f-a4524c4475cb",
   "metadata": {},
   "outputs": [
    {
     "data": {
      "text/plain": [
       "Text(0.5, 1.0, 'Топ 10 товаров')"
      ]
     },
     "execution_count": 336,
     "metadata": {},
     "output_type": "execute_result"
    },
    {
     "data": {
      "image/png": "[encoded data removed]",
      "text/plain": [
       "<Figure size 1000x1000 with 1 Axes>"
      ]
     },
     "metadata": {},
     "output_type": "display_data"
    }
   ],
   "source": [
    "fig,ax=plt.subplots(figsize=(10,10))\n",
    "sns.barplot(data=id,x='product_id', y='quantity', order=id.sort_values('quantity').product_id)\n",
    "ax.bar_label(ax.containers[0])\n",
    "ax.set_title('Топ 10 товаров')"
   ]
  },
  {
   "cell_type": "code",
   "execution_count": 337,
   "id": "18b5ea2d-a5de-4db6-b8ca-ab41a43cb7c7",
   "metadata": {},
   "outputs": [],
   "source": [
    "day=df.gdata)roupby(by='data')['quantity'].sum().sort_values(ascending=False).reset_index()"
   ]
  },
  {
   "cell_type": "code",
   "execution_count": 338,
   "id": "0d8757dd-636b-4e55-ba81-8965d5b3d64b",
   "metadata": {},
   "outputs": [
    {
     "data": {
      "text/html": [
       "<div>\n",
       "<style scoped>\n",
       "    .dataframe tbody tr th:only-of-type {\n",
       "        vertical-align: middle;\n",
       "    }\n",
       "\n",
       "    .dataframe tbody tr th {\n",
       "        vertical-align: top;\n",
       "    }\n",
       "\n",
       "    .dataframe thead th {\n",
       "        text-align: right;\n",
       "    }\n",
       "</style>\n",
       "<table border=\"1\" class=\"dataframe\">\n",
       "  <thead>\n",
       "    <tr style=\"text-align: right;\">\n",
       "      <th></th>\n",
       "      <th>data</th>\n",
       "      <th>quantity</th>\n",
       "    </tr>\n",
       "  </thead>\n",
       "  <tbody>\n",
       "    <tr>\n",
       "      <th>0</th>\n",
       "      <td>2020-12-04</td>\n",
       "      <td>113</td>\n",
       "    </tr>\n",
       "    <tr>\n",
       "      <th>1</th>\n",
       "      <td>2020-12-07</td>\n",
       "      <td>94</td>\n",
       "    </tr>\n",
       "    <tr>\n",
       "      <th>2</th>\n",
       "      <td>2020-12-09</td>\n",
       "      <td>69</td>\n",
       "    </tr>\n",
       "    <tr>\n",
       "      <th>3</th>\n",
       "      <td>2020-12-08</td>\n",
       "      <td>68</td>\n",
       "    </tr>\n",
       "    <tr>\n",
       "      <th>4</th>\n",
       "      <td>2020-12-05</td>\n",
       "      <td>61</td>\n",
       "    </tr>\n",
       "    <tr>\n",
       "      <th>5</th>\n",
       "      <td>2020-12-03</td>\n",
       "      <td>60</td>\n",
       "    </tr>\n",
       "    <tr>\n",
       "      <th>6</th>\n",
       "      <td>2020-12-06</td>\n",
       "      <td>15</td>\n",
       "    </tr>\n",
       "  </tbody>\n",
       "</table>\n",
       "</div>"
      ],
      "text/plain": [
       "        data  quantity\n",
       "0 2020-12-04       113\n",
       "1 2020-12-07        94\n",
       "2 2020-12-09        69\n",
       "3 2020-12-08        68\n",
       "4 2020-12-05        61\n",
       "5 2020-12-03        60\n",
       "6 2020-12-06        15"
      ]
     },
     "execution_count": 338,
     "metadata": {},
     "output_type": "execute_result"
    }
   ],
   "source": [
    "day"
   ]
  },
  {
   "cell_type": "code",
   "execution_count": 341,
   "id": "971c75df-7862-401d-94b1-ed338a7720ff",
   "metadata": {},
   "outputs": [
    {
     "data": {
      "text/html": [
       "<div>\n",
       "<style scoped>\n",
       "    .dataframe tbody tr th:only-of-type {\n",
       "        vertical-align: middle;\n",
       "    }\n",
       "\n",
       "    .dataframe tbody tr th {\n",
       "        vertical-align: top;\n",
       "    }\n",
       "\n",
       "    .dataframe thead th {\n",
       "        text-align: right;\n",
       "    }\n",
       "</style>\n",
       "<table border=\"1\" class=\"dataframe\">\n",
       "  <thead>\n",
       "    <tr style=\"text-align: right;\">\n",
       "      <th></th>\n",
       "      <th>data</th>\n",
       "      <th>quantity</th>\n",
       "    </tr>\n",
       "  </thead>\n",
       "  <tbody>\n",
       "    <tr>\n",
       "      <th>0</th>\n",
       "      <td>2020-12-04</td>\n",
       "      <td>113</td>\n",
       "    </tr>\n",
       "    <tr>\n",
       "      <th>1</th>\n",
       "      <td>2020-12-07</td>\n",
       "      <td>94</td>\n",
       "    </tr>\n",
       "    <tr>\n",
       "      <th>2</th>\n",
       "      <td>2020-12-09</td>\n",
       "      <td>69</td>\n",
       "    </tr>\n",
       "    <tr>\n",
       "      <th>3</th>\n",
       "      <td>2020-12-08</td>\n",
       "      <td>68</td>\n",
       "    </tr>\n",
       "    <tr>\n",
       "      <th>4</th>\n",
       "      <td>2020-12-05</td>\n",
       "      <td>61</td>\n",
       "    </tr>\n",
       "    <tr>\n",
       "      <th>5</th>\n",
       "      <td>2020-12-03</td>\n",
       "      <td>60</td>\n",
       "    </tr>\n",
       "    <tr>\n",
       "      <th>6</th>\n",
       "      <td>2020-12-06</td>\n",
       "      <td>15</td>\n",
       "    </tr>\n",
       "  </tbody>\n",
       "</table>\n",
       "</div>"
      ],
      "text/plain": [
       "        data  quantity\n",
       "0 2020-12-04       113\n",
       "1 2020-12-07        94\n",
       "2 2020-12-09        69\n",
       "3 2020-12-08        68\n",
       "4 2020-12-05        61\n",
       "5 2020-12-03        60\n",
       "6 2020-12-06        15"
      ]
     },
     "execution_count": 341,
     "metadata": {},
     "output_type": "execute_result"
    }
   ],
   "source": [
    "day"
   ]
  },
  {
   "cell_type": "code",
   "execution_count": 339,
   "id": "09ff847f-837c-4a42-bc56-ff2c0388f681",
   "metadata": {},
   "outputs": [
    {
     "data": {
      "text/plain": [
       "data        datetime64[ns]\n",
       "quantity             int64\n",
       "dtype: object"
      ]
     },
     "execution_count": 339,
     "metadata": {},
     "output_type": "execute_result"
    }
   ],
   "source": [
    "day.dtypes"
   ]
  },
  {
   "cell_type": "code",
   "execution_count": 351,
   "id": "d2b5068c-0956-4460-8504-13246902e0ff",
   "metadata": {},
   "outputs": [
    {
     "data": {
      "text/plain": [
       "<Axes: title={'center': 'Продажи по дням'}, xlabel='data', ylabel='quantity'>"
      ]
     },
     "execution_count": 351,
     "metadata": {},
     "output_type": "execute_result"
    },
    {
     "data": {
      "image/png": "[encoded data removed]",
      "text/plain": [
       "<Figure size 1000x500 with 1 Axes>"
      ]
     },
     "metadata": {},
     "output_type": "display_data"
    }
   ],
   "source": [
    "fig,ax=plt.subplots(figsize=(10,5))\n",
    "sns.barplot(data=day,x='data', y='quantity',order=day.data)\n",
    "ax.bar_label(ax.containers[0])\n",
    "ax.set_title('Продажи по дням')\n",
    "\n",
    "sns.barplot(data=day,x='data', y='quantity')"
   ]
  },
  {
   "cell_type": "code",
   "execution_count": 353,
   "id": "01d5a84f-9020-4710-be2d-17b30bed33f8",
   "metadata": {},
   "outputs": [],
   "source": [
    "client=df.groupby(by='name')['product_id'].count().sort_values(ascending=False)"
   ]
  },
  {
   "cell_type": "code",
   "execution_count": 354,
   "id": "f496f7a6-d439-4f25-bdb8-0ec208e4475d",
   "metadata": {},
   "outputs": [
    {
     "data": {
      "text/plain": [
       "name\n",
       "Alexey_Smirnov       18\n",
       "Petr_Smirnov         14\n",
       "Anton_Smirnov        14\n",
       "Petr_Fedorov         12\n",
       "Alexey_Fedorov       11\n",
       "Vasiliy_Ivanov       10\n",
       "Rostislav_Petrov      9\n",
       "Kirill_Fedorov        8\n",
       "Petr_Ivanov           8\n",
       "Anton_Ivanov          7\n",
       "Kirill_Smirnov        7\n",
       "Anton_Petrov          6\n",
       "Alexey_Ivanov         6\n",
       "Rostislav_Smirnov     5\n",
       "Petr_Petrov           5\n",
       "Rostislav_Fedorov     5\n",
       "Kirill_Petrov         4\n",
       "Vasiliy_Fedorov       4\n",
       "Alexey_Petrov         3\n",
       "Rostislav_Ivanov      3\n",
       "Vasiliy_Petrov        2\n",
       "Name: product_id, dtype: int64"
      ]
     },
     "execution_count": 354,
     "metadata": {},
     "output_type": "execute_result"
    }
   ],
   "source": [
    "client"
   ]
  },
  {
   "cell_type": "code",
   "execution_count": null,
   "id": "4abd09c8-51bc-4293-b9fe-983bb1391e17",
   "metadata": {},
   "outputs": [],
   "source": []
  }
 ],
 "metadata": {
  "kernelspec": {
   "display_name": "Python 3 (ipykernel)",
   "language": "python",
   "name": "python3"
  },
  "language_info": {
   "codemirror_mode": {
    "name": "ipython",
    "version": 3
   },
   "file_extension": ".py",
   "mimetype": "text/x-python",
   "name": "python",
   "nbconvert_exporter": "python",
   "pygments_lexer": "ipython3",
   "version": "3.11.6"
  }
 },
 "nbformat": 4,
 "nbformat_minor": 5
}
